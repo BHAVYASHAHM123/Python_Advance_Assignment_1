{
  "nbformat": 4,
  "nbformat_minor": 0,
  "metadata": {
    "colab": {
      "name": "Python_Advance _Assignment_1.ipynb",
      "provenance": [],
      "collapsed_sections": []
    },
    "kernelspec": {
      "name": "python3",
      "display_name": "Python 3"
    },
    "language_info": {
      "name": "python"
    }
  },
  "cells": [
    {
      "cell_type": "markdown",
      "source": [
        "Q1). What is the purpose of Python's OOP?\n",
        "\n",
        "Ans) The purpose of Python's OOP is to implement real-world entities like inheritance, polymorphisms, encapsulation, etc. in the programming"
      ],
      "metadata": {
        "id": "sFWg1vgiP4rx"
      }
    },
    {
      "cell_type": "markdown",
      "source": [
        "Q2). Where does an inheritance search look for an attribute?\n",
        "\n",
        "Ans)Inheritance allows us to define a class that inherits all the methods and properties from another class"
      ],
      "metadata": {
        "id": "hPy1ILv4QTap"
      }
    },
    {
      "cell_type": "markdown",
      "source": [
        "Q3). How do you distinguish between a class object and an instance object?\n",
        "\n",
        "Ans) The class = the blue print. \n",
        "     The Object is an actual thing that is built based on the 'blue print'.\n",
        "     An instance is a virtual copy of the object."
      ],
      "metadata": {
        "id": "JSX01FoZVddS"
      }
    },
    {
      "cell_type": "markdown",
      "source": [
        "Q4). What makes the first argument in a class’s method function special?\n",
        "\n",
        "Ans) The first argument of every class method, including init, is always a reference to the current instance of the class"
      ],
      "metadata": {
        "id": "-jvuJMeXWDTg"
      }
    },
    {
      "cell_type": "markdown",
      "source": [
        "Q5). What is the purpose of the __init__ method?\n",
        "\n",
        "Ans) Lets the class initialize the object's attributes and serves no other purpose. "
      ],
      "metadata": {
        "id": "d9KNqpwcZebo"
      }
    },
    {
      "cell_type": "markdown",
      "source": [
        "Q6) What is the process for creating a class instance?\n",
        "\n",
        "Ans)"
      ],
      "metadata": {
        "id": "Y-ORdKtZvJaq"
      }
    },
    {
      "cell_type": "code",
      "source": [
        "class ball:\n",
        "    pass\n",
        "\n",
        "an_instance = (ball)\n",
        "print(an_instance)"
      ],
      "metadata": {
        "id": "uKpUYGFHVKeF",
        "colab": {
          "base_uri": "https://localhost:8080/"
        },
        "outputId": "b6b2b688-2fe0-4a75-c3b6-e877ae5546e5"
      },
      "execution_count": 3,
      "outputs": [
        {
          "output_type": "stream",
          "name": "stdout",
          "text": [
            "<class '__main__.ball'>\n"
          ]
        }
      ]
    },
    {
      "cell_type": "markdown",
      "source": [
        "Q7). What is the process for creating a class?\n",
        "\n",
        "Ans) Class is created by the keyword class\n",
        "eg : class hello:\n",
        "          pass\n"
      ],
      "metadata": {
        "id": "5F7kmasCv2V_"
      }
    },
    {
      "cell_type": "markdown",
      "source": [
        "Q8). How would you define the superclasses of a class?\n",
        "\n",
        "Ans) A superclass is the class from which many subclasses can be created. "
      ],
      "metadata": {
        "id": "TV8mrK_fxH-5"
      }
    }
  ]
}